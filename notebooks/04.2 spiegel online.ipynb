{
 "cells": [
  {
   "cell_type": "markdown",
   "metadata": {},
   "source": [
    "# Artikel von Spiegel Online laden"
   ]
  },
  {
   "cell_type": "markdown",
   "metadata": {},
   "source": [
    "## Imports"
   ]
  },
  {
   "cell_type": "code",
   "execution_count": 1,
   "metadata": {},
   "outputs": [],
   "source": [
    "import re\n",
    "import time\n",
    "import random\n",
    "\n",
    "import pandas as pd\n",
    "import requests\n",
    "from bs4 import BeautifulSoup"
   ]
  },
  {
   "cell_type": "markdown",
   "metadata": {},
   "source": [
    "## Funktionen für die Abfrage"
   ]
  },
  {
   "cell_type": "markdown",
   "metadata": {},
   "source": [
    "#### Links zu Artikeln in Suchergebnissen extrahieren"
   ]
  },
  {
   "cell_type": "code",
   "execution_count": 2,
   "metadata": {},
   "outputs": [],
   "source": [
    "def get_result_page_urls(result_page):\n",
    "    \n",
    "    response = requests.get(result_page, timeout=5)\n",
    "    \n",
    "    if response.status_code == 200:\n",
    "        soup = BeautifulSoup(response.text, \"html.parser\")\n",
    "        results = soup.find_all(class_=\"search-teaser\")\n",
    "        urls = [result.find(\"a\").get(\"href\") for result in results]\n",
    "        return urls\n",
    "    \n",
    "    else:\n",
    "        return None"
   ]
  },
  {
   "cell_type": "markdown",
   "metadata": {},
   "source": [
    "#### absolute Links filtern / relative Links behalten"
   ]
  },
  {
   "cell_type": "code",
   "execution_count": 3,
   "metadata": {},
   "outputs": [],
   "source": [
    "def filter_urls(result_page_urls, host):\n",
    "    urls = [host+url for url in result_page_urls if url.startswith(\"/\")]\n",
    "    return urls"
   ]
  },
  {
   "cell_type": "markdown",
   "metadata": {},
   "source": [
    "#### Inhalt extrahieren"
   ]
  },
  {
   "cell_type": "code",
   "execution_count": 4,
   "metadata": {},
   "outputs": [],
   "source": [
    "def extract_content(url, conf):\n",
    "    \n",
    "    url_elements = url.split(\"/\")\n",
    "    media = url_elements[2]\n",
    "    ressort = url_elements[3]\n",
    "    NA = \"NaN\"\n",
    "    \n",
    "    r = requests.get(url)\n",
    "    soup = BeautifulSoup(r.text, \"html.parser\")\n",
    "\n",
    "    author = soup.find(attrs=conf[\"author\"])\n",
    "    try:\n",
    "        author = author.text\n",
    "    except AttributeError:\n",
    "        author = NA\n",
    "    \n",
    "    headline = soup.find(attrs=conf[\"headline\"])\n",
    "    if headline:\n",
    "        headline = \" \".join(headline.text.split())\n",
    "    else:\n",
    "        headline = NA\n",
    "    \n",
    "    intro = soup.find(attrs=conf[\"intro\"])\n",
    "    if intro:\n",
    "        intro = \" \".join(intro.text.split())\n",
    "    else:\n",
    "        intro = NA\n",
    "    \n",
    "    article = soup.find(attrs=conf[\"article\"])\n",
    "    if article:\n",
    "        article = \" \".join([p.text.strip() for p in article.find_all(\"p\")])\n",
    "    else:\n",
    "        article = NA\n",
    "    \n",
    "    return (media, ressort, author, headline, intro, article, url)"
   ]
  },
  {
   "cell_type": "markdown",
   "metadata": {},
   "source": [
    "## Artikel-URLs abfragen"
   ]
  },
  {
   "cell_type": "code",
   "execution_count": 5,
   "metadata": {},
   "outputs": [],
   "source": [
    "host = \"http://www.spiegel.de\"\n",
    "path = \"/suche/\"\n",
    "n = 3\n",
    "\n",
    "article_urls = []\n",
    "for i in range(1, n+1):\n",
    "\n",
    "    params = {\n",
    "        \"suchbegriff\": \"Syrien-Konflikt\",\n",
    "        \"pageNumer\": i,\n",
    "    }    \n",
    "    \n",
    "    result_page = requests.get(host+path, params=params)\n",
    "    result_page_urls = get_result_page_urls(result_page.url)\n",
    "    result_page_urls = filter_urls(result_page_urls, host)\n",
    "    \n",
    "    article_urls.extend(result_page_urls)\n",
    "    timer = round(random.random()*2, 2)\n",
    "    time.sleep(timer)"
   ]
  },
  {
   "cell_type": "code",
   "execution_count": 6,
   "metadata": {},
   "outputs": [],
   "source": [
    "# Elemente und HTML-Tags konfigurieren\n",
    "spon_conf = {\n",
    "    \"author\": {\"rel\": \"author\"},\n",
    "    \"headline\": {\"class\": \"article-title lp-article-title\"},\n",
    "    \"intro\": {\"class\": \"article-intro\"},\n",
    "    \"article\": {\"class\": \"article-section clearfix\"},\n",
    "}"
   ]
  },
  {
   "cell_type": "markdown",
   "metadata": {},
   "source": [
    "### Inhalte extrahieren"
   ]
  },
  {
   "cell_type": "code",
   "execution_count": 7,
   "metadata": {},
   "outputs": [],
   "source": [
    "results = [extract_content(url, spon_conf) for url in article_urls]"
   ]
  },
  {
   "cell_type": "markdown",
   "metadata": {},
   "source": [
    "## Pandas DataFrame mit den Ergebnissen erstellen"
   ]
  },
  {
   "cell_type": "code",
   "execution_count": 8,
   "metadata": {},
   "outputs": [
    {
     "data": {
      "text/html": [
       "<div>\n",
       "<style scoped>\n",
       "    .dataframe tbody tr th:only-of-type {\n",
       "        vertical-align: middle;\n",
       "    }\n",
       "\n",
       "    .dataframe tbody tr th {\n",
       "        vertical-align: top;\n",
       "    }\n",
       "\n",
       "    .dataframe thead th {\n",
       "        text-align: right;\n",
       "    }\n",
       "</style>\n",
       "<table border=\"1\" class=\"dataframe\">\n",
       "  <thead>\n",
       "    <tr style=\"text-align: right;\">\n",
       "      <th></th>\n",
       "      <th>media</th>\n",
       "      <th>ressort</th>\n",
       "      <th>author</th>\n",
       "      <th>headline</th>\n",
       "      <th>intro</th>\n",
       "      <th>text</th>\n",
       "      <th>url</th>\n",
       "    </tr>\n",
       "  </thead>\n",
       "  <tbody>\n",
       "    <tr>\n",
       "      <th>0</th>\n",
       "      <td>www.spiegel.de</td>\n",
       "      <td>wissenschaft</td>\n",
       "      <td>Christian Stöcker</td>\n",
       "      <td>\"Lügenpresse\" Merkels Fehler, Putins Sieg</td>\n",
       "      <td>Angela Merkel hat neulich etwas sehr Unkluges ...</td>\n",
       "      <td>Für die sonst so bedachte Kanzlerin Angela Mer...</td>\n",
       "      <td>http://www.spiegel.de/wissenschaft/mensch/lueg...</td>\n",
       "    </tr>\n",
       "    <tr>\n",
       "      <th>1</th>\n",
       "      <td>www.spiegel.de</td>\n",
       "      <td>politik</td>\n",
       "      <td>Milena Hassenkamp</td>\n",
       "      <td>Amerikanische IS-Kämpferin Warum Hoda Muthana ...</td>\n",
       "      <td>Die ehemalige IS-Anhängerin Hoda Muthana möcht...</td>\n",
       "      <td>Als Hoda Muthana sich von den USA auf den Weg ...</td>\n",
       "      <td>http://www.spiegel.de/politik/ausland/donald-t...</td>\n",
       "    </tr>\n",
       "    <tr>\n",
       "      <th>2</th>\n",
       "      <td>www.spiegel.de</td>\n",
       "      <td>politik</td>\n",
       "      <td>NaN</td>\n",
       "      <td>Münchner Sicherheitskonferenz Klare Ansagen, t...</td>\n",
       "      <td>Kanzlerin Merkel rechnet mit US-Präsident Trum...</td>\n",
       "      <td>Die Münchner Sicherheitskonferenz war - wieder...</td>\n",
       "      <td>http://www.spiegel.de/politik/ausland/muenchne...</td>\n",
       "    </tr>\n",
       "    <tr>\n",
       "      <th>3</th>\n",
       "      <td>www.spiegel.de</td>\n",
       "      <td>politik</td>\n",
       "      <td>NaN</td>\n",
       "      <td>\"Kalifat vor seinem Fall\" US-Präsident verlang...</td>\n",
       "      <td>Donald Trump hat die Europäer aufgefordert, me...</td>\n",
       "      <td>\"Wir tun so viel und geben so viel aus\", bekla...</td>\n",
       "      <td>http://www.spiegel.de/politik/ausland/syrien-d...</td>\n",
       "    </tr>\n",
       "    <tr>\n",
       "      <th>4</th>\n",
       "      <td>www.spiegel.de</td>\n",
       "      <td>politik</td>\n",
       "      <td>NaN</td>\n",
       "      <td>Sicherheitsberater des Irak \"Es kommt mir so v...</td>\n",
       "      <td>Die USA sagen, der \"Islamische Staat\" sei so g...</td>\n",
       "      <td>SPIEGEL ONLINE: Die US-Regierung behauptet, de...</td>\n",
       "      <td>http://www.spiegel.de/politik/ausland/falih-al...</td>\n",
       "    </tr>\n",
       "  </tbody>\n",
       "</table>\n",
       "</div>"
      ],
      "text/plain": [
       "            media       ressort             author  \\\n",
       "0  www.spiegel.de  wissenschaft  Christian Stöcker   \n",
       "1  www.spiegel.de       politik  Milena Hassenkamp   \n",
       "2  www.spiegel.de       politik                NaN   \n",
       "3  www.spiegel.de       politik                NaN   \n",
       "4  www.spiegel.de       politik                NaN   \n",
       "\n",
       "                                            headline  \\\n",
       "0          \"Lügenpresse\" Merkels Fehler, Putins Sieg   \n",
       "1  Amerikanische IS-Kämpferin Warum Hoda Muthana ...   \n",
       "2  Münchner Sicherheitskonferenz Klare Ansagen, t...   \n",
       "3  \"Kalifat vor seinem Fall\" US-Präsident verlang...   \n",
       "4  Sicherheitsberater des Irak \"Es kommt mir so v...   \n",
       "\n",
       "                                               intro  \\\n",
       "0  Angela Merkel hat neulich etwas sehr Unkluges ...   \n",
       "1  Die ehemalige IS-Anhängerin Hoda Muthana möcht...   \n",
       "2  Kanzlerin Merkel rechnet mit US-Präsident Trum...   \n",
       "3  Donald Trump hat die Europäer aufgefordert, me...   \n",
       "4  Die USA sagen, der \"Islamische Staat\" sei so g...   \n",
       "\n",
       "                                                text  \\\n",
       "0  Für die sonst so bedachte Kanzlerin Angela Mer...   \n",
       "1  Als Hoda Muthana sich von den USA auf den Weg ...   \n",
       "2  Die Münchner Sicherheitskonferenz war - wieder...   \n",
       "3  \"Wir tun so viel und geben so viel aus\", bekla...   \n",
       "4  SPIEGEL ONLINE: Die US-Regierung behauptet, de...   \n",
       "\n",
       "                                                 url  \n",
       "0  http://www.spiegel.de/wissenschaft/mensch/lueg...  \n",
       "1  http://www.spiegel.de/politik/ausland/donald-t...  \n",
       "2  http://www.spiegel.de/politik/ausland/muenchne...  \n",
       "3  http://www.spiegel.de/politik/ausland/syrien-d...  \n",
       "4  http://www.spiegel.de/politik/ausland/falih-al...  "
      ]
     },
     "execution_count": 8,
     "metadata": {},
     "output_type": "execute_result"
    }
   ],
   "source": [
    "cols = \"media ressort author headline intro text url\".split()\n",
    "df = pd.DataFrame(results, columns=cols)\n",
    "df.head()"
   ]
  },
  {
   "cell_type": "markdown",
   "metadata": {},
   "source": [
    "----"
   ]
  },
  {
   "cell_type": "markdown",
   "metadata": {},
   "source": [
    "### Zusatz"
   ]
  },
  {
   "cell_type": "markdown",
   "metadata": {},
   "source": [
    "#### Query-Dictionary"
   ]
  },
  {
   "cell_type": "code",
   "execution_count": 9,
   "metadata": {},
   "outputs": [],
   "source": [
    "def query_params_to_dict(pattern, url):\n",
    "    query = re.search(pattern, url).group().split(\"&\")\n",
    "    params = {}\n",
    "    for q in query:\n",
    "        k, v = q.split(\"=\")\n",
    "        params.update({k:v}) \n",
    "    return params"
   ]
  },
  {
   "cell_type": "code",
   "execution_count": 10,
   "metadata": {},
   "outputs": [
    {
     "data": {
      "text/plain": [
       "True"
      ]
     },
     "execution_count": 10,
     "metadata": {},
     "output_type": "execute_result"
    }
   ],
   "source": [
    "# Funktionstest\n",
    "url = \"http://www.spiegel.de/suche/?suchbegriff=Syrien-Konflikt&pageNumber=2\"\n",
    "pattern = re.compile(\"(?<=\\?).*(?=#)|(?<=\\?).*\")\n",
    "\n",
    "params = query_params_to_dict(pattern, url)\n",
    "r = requests.get(\"http://www.spiegel.de/suche/\", params=params)\n",
    "\n",
    "r.url == url"
   ]
  }
 ],
 "metadata": {
  "kernelspec": {
   "display_name": "Python 3",
   "language": "python",
   "name": "python3"
  },
  "language_info": {
   "codemirror_mode": {
    "name": "ipython",
    "version": 3
   },
   "file_extension": ".py",
   "mimetype": "text/x-python",
   "name": "python",
   "nbconvert_exporter": "python",
   "pygments_lexer": "ipython3",
   "version": "3.7.1"
  }
 },
 "nbformat": 4,
 "nbformat_minor": 2
}
