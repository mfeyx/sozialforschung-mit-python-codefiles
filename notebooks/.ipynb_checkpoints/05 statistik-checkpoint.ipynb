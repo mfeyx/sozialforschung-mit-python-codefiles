{
 "cells": [
  {
   "cell_type": "code",
   "execution_count": 1,
   "metadata": {
    "colab": {},
    "colab_type": "code",
    "id": "Pd76aeQxAUrw"
   },
   "outputs": [],
   "source": [
    "from collections import Counter\n",
    "from collections import OrderedDict\n",
    "import math\n",
    "\n",
    "from scipy import stats"
   ]
  },
  {
   "cell_type": "code",
   "execution_count": 2,
   "metadata": {
    "colab": {},
    "colab_type": "code",
    "id": "nTq5gkrrTxbr"
   },
   "outputs": [
    {
     "data": {
      "text/plain": [
       "4833.333333333333"
      ]
     },
     "execution_count": 2,
     "metadata": {},
     "output_type": "execute_result"
    }
   ],
   "source": [
    "def mittelwert(array):\n",
    "    n = len(array)\n",
    "    return sum(array) / n \n",
    "\n",
    "\n",
    "gehalt = [1000, 1500, 1500, 20000, 3000, 2000]\n",
    "mittelwert(gehalt)"
   ]
  },
  {
   "cell_type": "code",
   "execution_count": 3,
   "metadata": {
    "colab": {},
    "colab_type": "code",
    "id": "YaSXB2xjWMjO"
   },
   "outputs": [
    {
     "data": {
      "text/plain": [
       "1750.0"
      ]
     },
     "execution_count": 3,
     "metadata": {},
     "output_type": "execute_result"
    }
   ],
   "source": [
    "def median(array):\n",
    "    array = sorted(array)\n",
    "    n = len(array)\n",
    "    index = int(n / 2)\n",
    "    if n % 2 == 0:\n",
    "        lower = array[index - 1]\n",
    "        upper = array[index]\n",
    "        return 0.5 * (lower + upper)\n",
    "    return array[index]\n",
    "\n",
    "\n",
    "gehalt = [1000, 1500, 1500, 20000, 3000, 2000]\n",
    "median(gehalt)"
   ]
  },
  {
   "cell_type": "code",
   "execution_count": 4,
   "metadata": {
    "colab": {},
    "colab_type": "code",
    "id": "gR0Te92Ga6rY"
   },
   "outputs": [
    {
     "data": {
      "text/plain": [
       "1500"
      ]
     },
     "execution_count": 4,
     "metadata": {},
     "output_type": "execute_result"
    }
   ],
   "source": [
    "def modus(array):\n",
    "    value_counts = Counter(array)\n",
    "    most_common = value_counts.most_common(2)\n",
    "    modus = most_common[0][1]\n",
    "    if modus == most_common[1][1]:\n",
    "        return None\n",
    "    return array[modus]\n",
    "\n",
    "\n",
    "gehalt = [1000, 1500, 1500, 20000, 3000, 2000]\n",
    "modus(gehalt)"
   ]
  },
  {
   "cell_type": "code",
   "execution_count": 5,
   "metadata": {
    "colab": {},
    "colab_type": "code",
    "id": "3o3fOcHqky36"
   },
   "outputs": [
    {
     "data": {
      "text/plain": [
       "55666666.66666668"
      ]
     },
     "execution_count": 5,
     "metadata": {},
     "output_type": "execute_result"
    }
   ],
   "source": [
    "def varianz(array):\n",
    "    n = len(array)\n",
    "    mean = sum(array) / n\n",
    "    var = (1 / (n-1)) * sum(map(lambda x: (x - mean) **2 , array))\n",
    "    return var\n",
    "    \n",
    "    \n",
    "gehalt = [1000, 1500, 1500, 20000, 3000, 2000]\n",
    "varianz(gehalt)"
   ]
  },
  {
   "cell_type": "code",
   "execution_count": 6,
   "metadata": {
    "colab": {},
    "colab_type": "code",
    "id": "OQdiOseKpxiH"
   },
   "outputs": [
    {
     "data": {
      "text/plain": [
       "7461.009761866465"
      ]
     },
     "execution_count": 6,
     "metadata": {},
     "output_type": "execute_result"
    }
   ],
   "source": [
    "def std_abweichung(array):\n",
    "    n = len(array)\n",
    "    mean = sum(array) / n\n",
    "    var = (1 / (n-1)) * sum(map(lambda x: (x - mean) **2 , array))\n",
    "    return math.sqrt(var)\n",
    "\n",
    "\n",
    "gehalt = [1000, 1500, 1500, 20000, 3000, 2000]\n",
    "std_abweichung(gehalt)"
   ]
  },
  {
   "cell_type": "code",
   "execution_count": 7,
   "metadata": {
    "colab": {},
    "colab_type": "code",
    "id": "1e9tW02nq94f"
   },
   "outputs": [
    {
     "data": {
      "text/plain": [
       "4250.0"
      ]
     },
     "execution_count": 7,
     "metadata": {},
     "output_type": "execute_result"
    }
   ],
   "source": [
    "def covariance(x, y):\n",
    "    if not len(x) == len(y):\n",
    "        print(\"X and Y must be of same size.\")\n",
    "    n = len(x)\n",
    "    x_mn = sum(x) / n\n",
    "    y_mn = sum(y) / n\n",
    "    xy_var = map(lambda xi, yi: (xi - x_mn) * (yi - y_mn), x, y)\n",
    "    cov = (1 / (n-1)) * sum(xy_var)\n",
    "    return cov\n",
    "\n",
    "\n",
    "size = [20, 30, 40, 50, 60]\n",
    "price = [300, 400, 600, 700, 1000]\n",
    "covariance(size, price)"
   ]
  },
  {
   "cell_type": "code",
   "execution_count": 8,
   "metadata": {
    "colab": {},
    "colab_type": "code",
    "id": "RJooVTuyviPq"
   },
   "outputs": [
    {
     "data": {
      "text/plain": [
       "0.981"
      ]
     },
     "execution_count": 8,
     "metadata": {},
     "output_type": "execute_result"
    }
   ],
   "source": [
    "# PEARSON KORRELATIONSKOEFFIZIENT\n",
    "def correlation(x, y):\n",
    "    if not len(x) == len(y):\n",
    "        print(\"Error: X and Y must be of same size.\")\n",
    "        \n",
    "    n = len(x)\n",
    "    \n",
    "    x_mn = sum(x) / n\n",
    "    y_mn = sum(y) / n\n",
    "\n",
    "    var_x = (1 / (n-1)) * sum(map(lambda xi: (xi - x_mn) ** 2 , x))\n",
    "    var_y = (1 / (n-1)) * sum(map(lambda yi: (yi - y_mn) ** 2 , y))\n",
    "\n",
    "    std_x, std_y = math.sqrt(var_x), math.sqrt(var_y)\n",
    "    \n",
    "    xy_var = map(lambda xi, yi: (xi - x_mn) * (yi - y_mn), x, y)\n",
    "    cov = (1 / (n-1)) * sum(xy_var)\n",
    "    \n",
    "    r = cov / (std_x * std_y)\n",
    "    return float(f\"{r:.3f}\")\n",
    "\n",
    "\n",
    "size = [20, 30, 40, 50, 60]\n",
    "price = [300, 400, 600, 700, 1000]\n",
    "correlation(size, price)"
   ]
  },
  {
   "cell_type": "code",
   "execution_count": 9,
   "metadata": {
    "colab": {},
    "colab_type": "code",
    "id": "b77S9fovqvRR"
   },
   "outputs": [
    {
     "name": "stdout",
     "output_type": "stream",
     "text": [
      "[6.5, 6.5, 1.0, 3.0, 5.0, 2.0, 8.0, 4.0]\n",
      "[7.5, 7.5, 3.0, 2.0, 6.0, 4.0, 5.0, 1.0]\n"
     ]
    },
    {
     "data": {
      "text/plain": [
       "0.639"
      ]
     },
     "execution_count": 9,
     "metadata": {},
     "output_type": "execute_result"
    }
   ],
   "source": [
    "# SPEARMAN RANGKORRELATION\n",
    "def ranking(array):\n",
    "    \n",
    "    rank = 1\n",
    "    array_sorted = sorted(set(array))\n",
    "    ord_dict = OrderedDict(Counter(array))\n",
    "    \n",
    "    rankings = {}\n",
    "    for num in array_sorted:\n",
    "        count = ord_dict.get(num)\n",
    "        if count == 1:\n",
    "            rankings[num] = rank\n",
    "            rank += 1\n",
    "        else:\n",
    "            rankings[num] = rank + (count - 1) / 2\n",
    "            rank += count\n",
    "    \n",
    "    return [float(rankings.get(num)) for num in array]\n",
    "\n",
    "\n",
    "eng = [12, 12, 3, 6, 10, 4, 15, 8]\n",
    "eng_rank = ranking(eng)\n",
    "print(eng_rank)\n",
    "\n",
    "deu = [14, 14, 5, 4, 11, 8, 10, 3]\n",
    "deu_rank = ranking(deu)\n",
    "print(deu_rank)\n",
    "\n",
    "correlation(eng_rank, deu_rank)"
   ]
  },
  {
   "cell_type": "code",
   "execution_count": 10,
   "metadata": {
    "colab": {},
    "colab_type": "code",
    "id": "r9wnhnY5Q9o5"
   },
   "outputs": [
    {
     "name": "stdout",
     "output_type": "stream",
     "text": [
      "6.19 7.12\n",
      "1.3 1.5\n",
      "0.21 0.21\n"
     ]
    }
   ],
   "source": [
    "def var_koeff(array):\n",
    "    n = len(array)\n",
    "    mn = sum(array) / n\n",
    "    var = (1 / (n-1)) * sum(map(lambda x: (x - mn) ** 2 , array))\n",
    "    std = math.sqrt(var)\n",
    "    v = std / mn\n",
    "    if 0 in array:\n",
    "        v = v / math.sqrt((n-1))\n",
    "    return v\n",
    "\n",
    "\n",
    "pizza_de = [4.99, 7.99, 5.99, 4.99, 6.99]\n",
    "pizza_us = [5.74, 9.19, 6.89, 5.74, 8.04]\n",
    "\n",
    "mn_de, mn_us = mittelwert(pizza_de), mittelwert(pizza_us)\n",
    "print(round(mn_de, 2), round(mn_us, 2))\n",
    "\n",
    "std_de, std_us = std_abweichung(pizza_de), std_abweichung(pizza_us)\n",
    "print(round(std_de, 2), round(std_us, 2))\n",
    "\n",
    "cv_de, cv_us = var_koeff(pizza_de), var_koeff(pizza_us)\n",
    "print(round(cv_de, 2), round(cv_us, 2))"
   ]
  },
  {
   "cell_type": "code",
   "execution_count": 11,
   "metadata": {},
   "outputs": [
    {
     "data": {
      "text/plain": [
       "1325"
      ]
     },
     "execution_count": 11,
     "metadata": {},
     "output_type": "execute_result"
    }
   ],
   "source": [
    "def sample_size_pop(N, e=0.05, c=0.95, p=0.5, extra=None):\n",
    "    \"\"\"Stichprobengröße, bekannte Population.\n",
    "        \n",
    "        N: Population / Grundgesamtheit\n",
    "        e: Fehlertoleranz\n",
    "        c: Konfidenzniveau\n",
    "        p: geschätzter Anteilswert\n",
    "        extra: Zusatz für fehlenden Rücklauf [0, 1]\n",
    "    \"\"\"\n",
    "    z = stats.norm.ppf((1 + c) / 2)\n",
    "    \n",
    "    frac_n = (z**2 * p*(1-p)) / e**2\n",
    "    frac_d = 1 + ((z**2 * p*(1-p)) / (e**2 * N))\n",
    "    n = frac_n / frac_d\n",
    "    if extra:\n",
    "        n = n + n * extra\n",
    "    \n",
    "    # Werte aufrunden\n",
    "    return math.ceil(n)\n",
    "\n",
    "n = 4000\n",
    "sample_size_pop(n, c=0.99, e=0.03, p=0.5, extra=0.05)"
   ]
  },
  {
   "cell_type": "code",
   "execution_count": 12,
   "metadata": {},
   "outputs": [
    {
     "data": {
      "text/plain": [
       "244"
      ]
     },
     "execution_count": 12,
     "metadata": {},
     "output_type": "execute_result"
    }
   ],
   "source": [
    "sample_size_pop(n, c=0.95, e=0.05, p=0.8, extra=0.05)"
   ]
  },
  {
   "cell_type": "code",
   "execution_count": 13,
   "metadata": {},
   "outputs": [
    {
     "data": {
      "text/plain": [
       "3147"
      ]
     },
     "execution_count": 13,
     "metadata": {},
     "output_type": "execute_result"
    }
   ],
   "source": [
    "def sample_size(e=0.05, c=0.95, p=0.5, extra=None):\n",
    "    \"\"\"\n",
    "    Stichprobengröße, unbekannte Population.\n",
    "    \n",
    "    Parameter\n",
    "    ---------\n",
    "        e: Fehlertoleranz\n",
    "        c: Konfidenzniveau\n",
    "        p: geschätzter Anteilswert\n",
    "        extra: Zusatz für fehlenden Rücklauf\n",
    "    \n",
    "    Returns\n",
    "    -------\n",
    "        n, sample size -> int\n",
    "    \"\"\"\n",
    "    z = stats.norm.ppf((1 + c) / 2)\n",
    "    n = (z**2 * p * (1-p)) / e**2\n",
    "    if extra:\n",
    "        n = n + n * extra\n",
    "    \n",
    "    return math.ceil(n)\n",
    "\n",
    "sample_size(p=0.09, e=0.01, c=0.95)"
   ]
  }
 ],
 "metadata": {
  "colab": {
   "collapsed_sections": [],
   "name": "Deskriptive Statistik.ipynb",
   "provenance": [],
   "version": "0.3.2"
  },
  "kernelspec": {
   "display_name": "Python 3",
   "language": "python",
   "name": "python3"
  },
  "language_info": {
   "codemirror_mode": {
    "name": "ipython",
    "version": 3
   },
   "file_extension": ".py",
   "mimetype": "text/x-python",
   "name": "python",
   "nbconvert_exporter": "python",
   "pygments_lexer": "ipython3",
   "version": "3.7.1"
  }
 },
 "nbformat": 4,
 "nbformat_minor": 1
}
