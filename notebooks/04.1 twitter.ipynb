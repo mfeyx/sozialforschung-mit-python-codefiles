{
 "cells": [
  {
   "cell_type": "markdown",
   "metadata": {},
   "source": [
    "# Daten von Twitter abfragen"
   ]
  },
  {
   "cell_type": "markdown",
   "metadata": {},
   "source": [
    "#### Imports"
   ]
  },
  {
   "cell_type": "code",
   "execution_count": 1,
   "metadata": {},
   "outputs": [],
   "source": [
    "import pandas as pd\n",
    "import tweepy"
   ]
  },
  {
   "cell_type": "markdown",
   "metadata": {},
   "source": [
    "## Twitter Credentials generieren"
   ]
  },
  {
   "cell_type": "code",
   "execution_count": null,
   "metadata": {},
   "outputs": [],
   "source": [
    "def generate_twitter_credentials(ckey, csec):\n",
    "    \n",
    "    auth = tweepy.OAuthHandler(ckey, csec)\n",
    "    auth_url = auth.get_authorization_url()\n",
    "    print(f\"Please visit the URL to authorize:\\n{auth_url}\")\n",
    "    \n",
    "    PIN = input(\"Input the PIN number: \")\n",
    "    access_token = auth.get_access_token(PIN)\n",
    "    \n",
    "    atok, asec = access_token\n",
    "    print(f\"Access token: {atok}\")\n",
    "    print(f\"Access secret: {asec}\")\n",
    "    \n",
    "    return (atok, asec)"
   ]
  },
  {
   "cell_type": "markdown",
   "metadata": {},
   "source": [
    "## Zugangsdaten generieren"
   ]
  },
  {
   "cell_type": "code",
   "execution_count": null,
   "metadata": {},
   "outputs": [],
   "source": [
    "# Fill in your Keys!\n",
    "ckey = \"\"\n",
    "csec = \"\"\n",
    "\n",
    "atok, asec = generate_twitter_credentials(ckey, csec)\n",
    "auth = tweepy.OAuthHandler(ckey, csec)\n",
    "auth.set_access_token(atok, asec)"
   ]
  },
  {
   "cell_type": "markdown",
   "metadata": {},
   "source": [
    "## API-Verbindung herstellen"
   ]
  },
  {
   "cell_type": "code",
   "execution_count": null,
   "metadata": {},
   "outputs": [],
   "source": [
    "# create API object\n",
    "api = tweepy.API(auth)"
   ]
  },
  {
   "cell_type": "markdown",
   "metadata": {},
   "source": [
    "## Daten abfragen"
   ]
  },
  {
   "cell_type": "code",
   "execution_count": null,
   "metadata": {},
   "outputs": [],
   "source": [
    "users = [9655032, 5715752]\n",
    "n = 10  \n",
    "\n",
    "results = []\n",
    "for user in users:\n",
    "    # Timeline eines Users\n",
    "    timeline = tweepy.Cursor(api.user_timeline, id=user)\n",
    "    # für jeden Status auf der Timeline\n",
    "    for status in timeline.items(n):\n",
    "        data = (\n",
    "            status.user.id, \n",
    "            status.user.screen_name, \n",
    "            status.user.name, \n",
    "            status.user.verified, \n",
    "            status.text,\n",
    "            status.created_at,\n",
    "            status.lang,\n",
    "        )\n",
    "        # Ergebnis der Liste hinzufügen\n",
    "        results.append(data)"
   ]
  },
  {
   "cell_type": "markdown",
   "metadata": {},
   "source": [
    "## DataFrame erstellen"
   ]
  },
  {
   "cell_type": "code",
   "execution_count": null,
   "metadata": {},
   "outputs": [],
   "source": [
    "# festlegen der Spaltennamen\n",
    "cols = \"user_id screen_name name verified tweet date language\".split()\n",
    "\n",
    "# Datensatz erstellen\n",
    "df = pd.DataFrame(results, columns=cols)\n",
    "df.head()"
   ]
  }
 ],
 "metadata": {
  "kernelspec": {
   "display_name": "Python 3",
   "language": "python",
   "name": "python3"
  },
  "language_info": {
   "codemirror_mode": {
    "name": "ipython",
    "version": 3
   },
   "file_extension": ".py",
   "mimetype": "text/x-python",
   "name": "python",
   "nbconvert_exporter": "python",
   "pygments_lexer": "ipython3",
   "version": "3.7.1"
  }
 },
 "nbformat": 4,
 "nbformat_minor": 2
}
